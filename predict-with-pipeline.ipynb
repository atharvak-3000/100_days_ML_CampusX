{
 "cells": [
  {
   "cell_type": "code",
   "execution_count": 1,
   "id": "4d2f9178-7748-407f-b1e3-ea679b78f165",
   "metadata": {},
   "outputs": [],
   "source": [
    "import numpy as np\n",
    "import pickle"
   ]
  },
  {
   "cell_type": "code",
   "execution_count": 4,
   "id": "680b0a30-b5f4-43eb-ab8f-3f69a196ac2d",
   "metadata": {},
   "outputs": [],
   "source": [
    "pipe = pickle.load(open('pipe.pkl','rb'))"
   ]
  },
  {
   "cell_type": "code",
   "execution_count": 8,
   "id": "f5b861bf-a197-44b6-bf4b-c1b50cf70695",
   "metadata": {},
   "outputs": [],
   "source": [
    "#assume user input\n",
    "test_input2 = np.array([2,'male',31.0,0,0,10.5,'S'],dtype=object).reshape(1,7)"
   ]
  },
  {
   "cell_type": "code",
   "execution_count": 10,
   "id": "b91b7eec-3ef7-4477-9815-e048b672a2fd",
   "metadata": {},
   "outputs": [
    {
     "name": "stderr",
     "output_type": "stream",
     "text": [
      "C:\\Users\\Lenovo\\anaconda3\\Lib\\site-packages\\sklearn\\base.py:493: UserWarning: X does not have valid feature names, but SimpleImputer was fitted with feature names\n",
      "  warnings.warn(\n",
      "C:\\Users\\Lenovo\\anaconda3\\Lib\\site-packages\\sklearn\\base.py:493: UserWarning: X does not have valid feature names, but SimpleImputer was fitted with feature names\n",
      "  warnings.warn(\n"
     ]
    },
    {
     "data": {
      "text/plain": [
       "array([0], dtype=int64)"
      ]
     },
     "execution_count": 10,
     "metadata": {},
     "output_type": "execute_result"
    }
   ],
   "source": [
    "pipe.predict(test_input2)"
   ]
  },
  {
   "cell_type": "code",
   "execution_count": null,
   "id": "598e46b9-1bc0-4696-9e6a-28170eced4c3",
   "metadata": {},
   "outputs": [],
   "source": []
  }
 ],
 "metadata": {
  "kernelspec": {
   "display_name": "Python [conda env:base] *",
   "language": "python",
   "name": "conda-base-py"
  },
  "language_info": {
   "codemirror_mode": {
    "name": "ipython",
    "version": 3
   },
   "file_extension": ".py",
   "mimetype": "text/x-python",
   "name": "python",
   "nbconvert_exporter": "python",
   "pygments_lexer": "ipython3",
   "version": "3.12.7"
  }
 },
 "nbformat": 4,
 "nbformat_minor": 5
}
